{
 "cells": [
  {
   "cell_type": "code",
   "execution_count": 3,
   "metadata": {
    "collapsed": true
   },
   "outputs": [],
   "source": [
    "#Numpy has multidimensional array ndarray containing\n",
    "    #-> the actual data\n",
    "    #-> some matadata describing the data\n",
    "import numpy as np"
   ]
  },
  {
   "cell_type": "code",
   "execution_count": 4,
   "metadata": {
    "collapsed": false
   },
   "outputs": [
    {
     "data": {
      "text/plain": [
       "dtype('int64')"
      ]
     },
     "execution_count": 4,
     "metadata": {},
     "output_type": "execute_result"
    }
   ],
   "source": [
    "a= np.arange(5)\n",
    "a.dtype"
   ]
  },
  {
   "cell_type": "code",
   "execution_count": 5,
   "metadata": {
    "collapsed": false
   },
   "outputs": [
    {
     "data": {
      "text/plain": [
       "array([0, 1, 2, 3, 4])"
      ]
     },
     "execution_count": 5,
     "metadata": {},
     "output_type": "execute_result"
    }
   ],
   "source": [
    "a"
   ]
  },
  {
   "cell_type": "code",
   "execution_count": 10,
   "metadata": {
    "collapsed": false
   },
   "outputs": [
    {
     "data": {
      "text/plain": [
       "(5,)"
      ]
     },
     "execution_count": 10,
     "metadata": {},
     "output_type": "execute_result"
    }
   ],
   "source": [
    "#printing the shape of the vector\n",
    "a.shape"
   ]
  },
  {
   "cell_type": "code",
   "execution_count": 17,
   "metadata": {
    "collapsed": false
   },
   "outputs": [
    {
     "name": "stdout",
     "output_type": "stream",
     "text": [
      "[[0 1 2 3 4]\n",
      " [0 1 2 3 4]]\n",
      "(2, 5)\n"
     ]
    }
   ],
   "source": [
    "#creating  multidimensional array\n",
    "\n",
    "m= np.array([np.arange(5),np.arange(5)])\n",
    "print m\n",
    "print m.shape\n"
   ]
  },
  {
   "cell_type": "code",
   "execution_count": 23,
   "metadata": {
    "collapsed": false
   },
   "outputs": [
    {
     "name": "stdout",
     "output_type": "stream",
     "text": [
      "(1+0j)\n",
      "imaginory part 0.0\n",
      "real part 1.0\n"
     ]
    }
   ],
   "source": [
    "#comples datatype\n",
    "i = 1.0\n",
    "comp = complex(i)\n",
    "print comp\n",
    "print \"imaginory part\", comp.imag\n",
    "print \"real part\", comp.real"
   ]
  },
  {
   "cell_type": "code",
   "execution_count": 24,
   "metadata": {
    "collapsed": false
   },
   "outputs": [
    {
     "data": {
      "text/plain": [
       "8"
      ]
     },
     "execution_count": 24,
     "metadata": {},
     "output_type": "execute_result"
    }
   ],
   "source": [
    "# the size in bytes is given by the itemsize attribute\n",
    "a.dtype.itemsize"
   ]
  },
  {
   "cell_type": "code",
   "execution_count": 49,
   "metadata": {
    "collapsed": false
   },
   "outputs": [
    {
     "name": "stdout",
     "output_type": "stream",
     "text": [
      "[('name', 'S40'), ('numitems', '<i8'), ('price', '<f8')]\n"
     ]
    }
   ],
   "source": [
    "# we can use a record datatype to store the hetrogeneous data\n",
    "\n",
    "r = np.dtype([('name', str,40), ('numitems',int), ('price', float)])\n",
    "print r\n"
   ]
  },
  {
   "cell_type": "code",
   "execution_count": 56,
   "metadata": {
    "collapsed": false
   },
   "outputs": [
    {
     "name": "stdout",
     "output_type": "stream",
     "text": [
      "[('DVD', 2,  42.) ('butter', 5,  10.)]\n",
      " adding new record\n",
      "[('DVD', 2,  42.) ('butter', 5,  10.) ('pen', 5,  10.)]\n"
     ]
    }
   ],
   "source": [
    "# adding the data to record\n",
    "itemz= np.array([('DVD', 2 ,42), ('butter', 5, 10)], dtype=r)\n",
    "print itemz\n",
    "\n",
    "#appending records to already existing array\n",
    "print \" adding new record\"\n",
    "\n",
    "itemz= np.append(itemz,np.array([('pen', 5, 10)], dtype=itemz.dtype))\n",
    "\n",
    "print itemz\n",
    "                    "
   ]
  },
  {
   "cell_type": "code",
   "execution_count": 57,
   "metadata": {
    "collapsed": false
   },
   "outputs": [
    {
     "name": "stdout",
     "output_type": "stream",
     "text": [
      "[3 4 5 6]\n",
      "[2 4 6]\n",
      "[8 7 6 5 4 3 2 1 0]\n"
     ]
    }
   ],
   "source": [
    "# slicing the nparry\n",
    "\n",
    "#slicing is similar to the slicing of the list\n",
    "\n",
    "s= np.arange(9)\n",
    "print s[3:7] #slice 3-6\n",
    "\n",
    "print s[2:8:2] #slice 2-8 with a step size of 2\n",
    "\n",
    "print s[::-1] # reverse the array"
   ]
  },
  {
   "cell_type": "code",
   "execution_count": null,
   "metadata": {
    "collapsed": true
   },
   "outputs": [],
   "source": []
  }
 ],
 "metadata": {
  "kernelspec": {
   "display_name": "Python 2",
   "language": "python",
   "name": "python2"
  },
  "language_info": {
   "codemirror_mode": {
    "name": "ipython",
    "version": 2
   },
   "file_extension": ".py",
   "mimetype": "text/x-python",
   "name": "python",
   "nbconvert_exporter": "python",
   "pygments_lexer": "ipython2",
   "version": "2.7.12"
  }
 },
 "nbformat": 4,
 "nbformat_minor": 0
}
