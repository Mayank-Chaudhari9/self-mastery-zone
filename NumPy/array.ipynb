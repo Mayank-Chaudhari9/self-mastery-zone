{
 "cells": [
  {
   "cell_type": "code",
   "execution_count": 10,
   "metadata": {
    "collapsed": true
   },
   "outputs": [],
   "source": [
    "import numpy as np\n",
    "import sys\n",
    "from datetime import datetime"
   ]
  },
  {
   "cell_type": "code",
   "execution_count": 7,
   "metadata": {
    "collapsed": true
   },
   "outputs": [],
   "source": [
    "# array addition using python\n",
    "\n",
    "def pyadd(n):\n",
    "    a= range(n)\n",
    "    b= range(n)\n",
    "    c= []\n",
    "    \n",
    "    for i in range(len(a)):\n",
    "        a[i] = i**2\n",
    "        b[i] = i**3\n",
    "        c.append(a[i]+b[i])\n",
    "    return c\n"
   ]
  },
  {
   "cell_type": "code",
   "execution_count": 11,
   "metadata": {
    "collapsed": true
   },
   "outputs": [],
   "source": [
    "# nupy addition\n",
    "\n",
    "def numpyadd(n):\n",
    "    a= np.arange(n) ** 2\n",
    "    b= np.arange(n) ** 3\n",
    "    c= a +b\n",
    "    return c"
   ]
  },
  {
   "cell_type": "code",
   "execution_count": 19,
   "metadata": {
    "collapsed": false
   },
   "outputs": [
    {
     "name": "stdout",
     "output_type": "stream",
     "text": [
      "0:00:00.000869\n"
     ]
    }
   ],
   "source": [
    "start = datetime.now()\n",
    "pyadd(1000)\n",
    "delta = datetime.now()-start\n",
    "print delta"
   ]
  },
  {
   "cell_type": "code",
   "execution_count": 20,
   "metadata": {
    "collapsed": false
   },
   "outputs": [
    {
     "name": "stdout",
     "output_type": "stream",
     "text": [
      "0:00:00.000204\n"
     ]
    }
   ],
   "source": [
    "start = datetime.now()\n",
    "numpyadd(1000)\n",
    "delta = datetime.now()-start\n",
    "print delta"
   ]
  },
  {
   "cell_type": "code",
   "execution_count": null,
   "metadata": {
    "collapsed": true
   },
   "outputs": [],
   "source": []
  }
 ],
 "metadata": {
  "kernelspec": {
   "display_name": "Python 2",
   "language": "python",
   "name": "python2"
  },
  "language_info": {
   "codemirror_mode": {
    "name": "ipython",
    "version": 2
   },
   "file_extension": ".py",
   "mimetype": "text/x-python",
   "name": "python",
   "nbconvert_exporter": "python",
   "pygments_lexer": "ipython2",
   "version": "2.7.12"
  }
 },
 "nbformat": 4,
 "nbformat_minor": 0
}
